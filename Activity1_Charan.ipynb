{
  "nbformat": 4,
  "nbformat_minor": 0,
  "metadata": {
    "colab": {
      "provenance": [],
      "authorship_tag": "ABX9TyMyS+bhIpX7PI4g2CXLXG9D",
      "include_colab_link": true
    },
    "kernelspec": {
      "name": "python3",
      "display_name": "Python 3"
    },
    "language_info": {
      "name": "python"
    }
  },
  "cells": [
    {
      "cell_type": "markdown",
      "metadata": {
        "id": "view-in-github",
        "colab_type": "text"
      },
      "source": [
        "<a href=\"https://colab.research.google.com/github/Sai-Charan-Bandari/Python_activities/blob/main/Activity1_Charan.ipynb\" target=\"_parent\"><img src=\"https://colab.research.google.com/assets/colab-badge.svg\" alt=\"Open In Colab\"/></a>"
      ]
    },
    {
      "cell_type": "markdown",
      "source": [
        "Password Validator: Design a Python program that asks the user to input a password. Check if the password meets certain criteria, such as having a minimum length of 8 characters, and containing at least one uppercase letter, one lowercase letter, and one digit. Use a combination of if statements and loops to validate the password."
      ],
      "metadata": {
        "id": "-nvBk3eqB3VT"
      }
    },
    {
      "cell_type": "code",
      "execution_count": 24,
      "metadata": {
        "colab": {
          "base_uri": "https://localhost:8080/",
          "height": 0
        },
        "id": "X5yijtMhBy3b",
        "outputId": "d75d546e-f5c9-4768-a087-a1252c249c05"
      },
      "outputs": [
        {
          "output_type": "stream",
          "name": "stdout",
          "text": [
            "enter ur passwordad\n",
            "CRITERIA NOT MET\n"
          ]
        }
      ],
      "source": [
        "def checkPassword(p):\n",
        "  if(len(p)>=8):\n",
        "    u = False\n",
        "    l = False\n",
        "    d = False\n",
        "    for ch in p:\n",
        "      if(ch.isupper()):\n",
        "        u=True\n",
        "      if(ch.islower()):\n",
        "        l=True\n",
        "      if(ch.isdigit()):\n",
        "        d=True\n",
        "    if(u and l and d): return True\n",
        "  return False\n",
        "\n",
        "p = input(\"enter ur password\")\n",
        "if(checkPassword(p)): print(\"OK\")\n",
        "else: print(\"CRITERIA NOT MET\")\n",
        "\n"
      ]
    },
    {
      "cell_type": "markdown",
      "source": [
        "Number Guessing Game: Implement a number guessing game where the user has to guess a randomly generated number between 1 and 100. Provide hints such as \"Too high\" or \"Too low\" after each guess. Use a while loop to allow multiple guesses until the correct number is guessed."
      ],
      "metadata": {
        "id": "jYC0eOozEIAm"
      }
    },
    {
      "cell_type": "code",
      "source": [
        "import random\n",
        "r = random.randint(1,5)\n",
        "i = int(input(\"guess \"))\n",
        "while(i!=r):\n",
        "  if(i<r):\n",
        "    print(\"Too low\")\n",
        "  else:\n",
        "    print(\"Too high\")\n",
        "  i = int(input(\"guess \"))\n",
        "\n",
        "print(\"You guessed it\")"
      ],
      "metadata": {
        "colab": {
          "base_uri": "https://localhost:8080/",
          "height": 0
        },
        "id": "AzSrL1-aEWoB",
        "outputId": "2b671788-81ba-4f3f-c2be-0cad3823d5fa"
      },
      "execution_count": 9,
      "outputs": [
        {
          "output_type": "stream",
          "name": "stdout",
          "text": [
            "guess 2\n",
            "Too low\n",
            "guess 4\n",
            "You guessed it\n"
          ]
        }
      ]
    },
    {
      "cell_type": "markdown",
      "source": [
        "FizzBuzz with a Twist: Write a Python program that prints numbers from 1 to 50. For multiples of 3, print \"Fizz\" instead of the number, and for multiples of 5, print \"Buzz\". However, for numbers that are multiples of both 3 and 5, print \"FizzBuzz\"."
      ],
      "metadata": {
        "id": "3Z9bh5mlF2T7"
      }
    },
    {
      "cell_type": "code",
      "source": [
        "for i in range(1,51):\n",
        "  if(i%3==0 and i%5==0):\n",
        "    print(\"FizzBuzz\")\n",
        "    continue\n",
        "  elif(i%3==0):\n",
        "    print(\"Fizz\")\n",
        "    continue\n",
        "  if(i%5==0):\n",
        "    print(\"Buzz\")\n",
        "    continue\n",
        "  print(i)\n",
        ""
      ],
      "metadata": {
        "colab": {
          "base_uri": "https://localhost:8080/",
          "height": 0
        },
        "id": "88Lir22cF685",
        "outputId": "486dfb8d-1ad3-4d3a-b581-753feb9563bd"
      },
      "execution_count": 11,
      "outputs": [
        {
          "output_type": "stream",
          "name": "stdout",
          "text": [
            "1\n",
            "2\n",
            "Fizz\n",
            "4\n",
            "Buzz\n",
            "Fizz\n",
            "7\n",
            "8\n",
            "Fizz\n",
            "Buzz\n",
            "11\n",
            "Fizz\n",
            "13\n",
            "14\n",
            "FizzBuzz\n",
            "16\n",
            "17\n",
            "Fizz\n",
            "19\n",
            "Buzz\n",
            "Fizz\n",
            "22\n",
            "23\n",
            "Fizz\n",
            "Buzz\n",
            "26\n",
            "Fizz\n",
            "28\n",
            "29\n",
            "FizzBuzz\n",
            "31\n",
            "32\n",
            "Fizz\n",
            "34\n",
            "Buzz\n",
            "Fizz\n",
            "37\n",
            "38\n",
            "Fizz\n",
            "Buzz\n",
            "41\n",
            "Fizz\n",
            "43\n",
            "44\n",
            "FizzBuzz\n",
            "46\n",
            "47\n",
            "Fizz\n",
            "49\n",
            "Buzz\n"
          ]
        }
      ]
    },
    {
      "cell_type": "markdown",
      "source": [
        "DNA Sequence Analysis: Write a Python program that takes a DNA sequence as input and performs the following tasks: Counts the occurrences of each nucleotide (A, T, C, G), Identifies the reverse complement of the sequence, Determine whether the sequence is a palindrome (reads the same backward as forward)"
      ],
      "metadata": {
        "id": "MJQllMAyGnez"
      }
    },
    {
      "cell_type": "code",
      "source": [
        "a,t,c,g=0,0,0,0\n",
        "s=['A','T','C','G','C','T','A']\n",
        "rev_comp = []\n",
        "p = []\n",
        "# from wikihow\n",
        "complement = {'A': 'T', 'C': 'G', 'G': 'C', 'T': 'A'}\n",
        "for i in s:\n",
        "  if(i=='A'):\n",
        "    a+=1\n",
        "  elif(i=='T'):\n",
        "    t+=1\n",
        "  elif(i=='C'):\n",
        "    c+=1\n",
        "  else:\n",
        "    g+=1\n",
        "  rev_comp.insert(0,complement[i])\n",
        "  p.insert(0,i)\n",
        "\n",
        "print(\"given sequence is \"+str(s))\n",
        "print(\"count of a \"+str(a))\n",
        "print(\"count of t \"+str(t))\n",
        "print(\"count of c \"+str(c))\n",
        "print(\"count of g \"+str(g))\n",
        "print(\"reverse complement of given sequence is \"+str(rev_comp))\n",
        "# print(\"\".join(p))\n",
        "# print(\"\".join(s))\n",
        "if(\"\".join(p) == \"\".join(s)): print(\"palindrome\")\n",
        "else: print(\"not a palindrome\")"
      ],
      "metadata": {
        "colab": {
          "base_uri": "https://localhost:8080/",
          "height": 0
        },
        "id": "rP09qXRQGplf",
        "outputId": "eb003524-915c-4d68-992f-3bc3c6e3be25"
      },
      "execution_count": 23,
      "outputs": [
        {
          "output_type": "stream",
          "name": "stdout",
          "text": [
            "given sequence is ['A', 'T', 'C', 'G', 'C', 'T', 'A']\n",
            "count of a 2\n",
            "count of t 2\n",
            "count of c 2\n",
            "count of g 1\n",
            "reverse complement of given sequence is ['T', 'A', 'G', 'C', 'G', 'A', 'T']\n",
            "palindrome\n"
          ]
        }
      ]
    },
    {
      "cell_type": "markdown",
      "source": [
        "Email Validator: Develop a program that prompts the user to enter an email address. Check if the entered email address is valid based on the following: Contains the \"@\" symbol, Has a valid domain (e.g., gmail.com, yahoo.com), Does not contain spaces"
      ],
      "metadata": {
        "id": "DyNTI1UVLC1s"
      }
    },
    {
      "cell_type": "code",
      "source": [
        "\n",
        "def checkEmail(p):\n",
        "   i = 0\n",
        "   while(i<len(p)):\n",
        "    if(p[i]=='@'):\n",
        "      if(i>0):\n",
        "        i+=1\n",
        "        break\n",
        "      else:\n",
        "        print(\"no alphanumeric chars in front of @\")\n",
        "        return False\n",
        "    elif(not p[i].isalnum()):\n",
        "      print(\"not a alphanum\")\n",
        "      return False\n",
        "    i+=1\n",
        "\n",
        "   dot =False\n",
        "   j=i\n",
        "   while(j<len(p)):\n",
        "    if(p[j]=='.'):\n",
        "      if(j>i):\n",
        "        dot=True\n",
        "        i=j\n",
        "      else:\n",
        "        print(\"got dot without chars in b/w \"+str(i)+\" : \"+str(j))\n",
        "        return False\n",
        "    elif(not p[j].isalnum()):\n",
        "      print(\"not a alphanum\")\n",
        "      return False\n",
        "    j+=1\n",
        "\n",
        "   if(dot==True and p[len(p)-1].isalnum()):\n",
        "      return True\n",
        "   else:\n",
        "      print(\"no . found or last char was not alphanumeric\")\n",
        "      return False\n",
        "\n",
        "e = input(\"enter email \")\n",
        "if(checkEmail(e)): print(\"OK\")\n",
        "else: print(\"CRITERIA NOT MET\")"
      ],
      "metadata": {
        "colab": {
          "base_uri": "https://localhost:8080/",
          "height": 0
        },
        "id": "4m6yP9_jLKO8",
        "outputId": "33044b98-b43b-4b25-98af-870f83a1b5cc"
      },
      "execution_count": 6,
      "outputs": [
        {
          "output_type": "stream",
          "name": "stdout",
          "text": [
            "enter email charan@tejas.co.in\n",
            "OK\n"
          ]
        }
      ]
    },
    {
      "cell_type": "markdown",
      "source": [
        "Currency Converter: Create a Python program that converts currency amounts between different currencies. The program should ask the user for the amount, source currency, and target currency. Provide conversion rates for at least three currencies."
      ],
      "metadata": {
        "id": "6NzfoGxJR_cH"
      }
    },
    {
      "cell_type": "code",
      "source": [
        "# available currencies usd,inr,aed\n",
        "a = int(input('amount '))\n",
        "s = input('source currency ')\n",
        "t = input('target currency ')\n",
        "\n",
        "if(s=='usd'):\n",
        "  if(t=='inr'):\n",
        "    print(a*83.05)\n",
        "  elif(t=='aed'):\n",
        "    print(a*3.67)\n",
        "elif(s=='inr'):\n",
        "  if(t=='usd'):\n",
        "    print(a/83.05)\n",
        "  elif(t=='aed'):\n",
        "    print(a/22.61)\n",
        "elif(s=='aed'):\n",
        "  if(t=='inr'):\n",
        "    print(a*22.61)\n",
        "  elif(t=='usd'):\n",
        "    print(a/3.67)\n",
        ""
      ],
      "metadata": {
        "colab": {
          "base_uri": "https://localhost:8080/",
          "height": 0
        },
        "id": "3seUyMc6SAIH",
        "outputId": "3ef4835f-c6a1-4d1b-ce92-eebdcb194860"
      },
      "execution_count": 32,
      "outputs": [
        {
          "output_type": "stream",
          "name": "stdout",
          "text": [
            "amount 100\n",
            "source currency inr\n",
            "target currency usd\n",
            "1.2040939193257074\n"
          ]
        }
      ]
    }
  ]
}